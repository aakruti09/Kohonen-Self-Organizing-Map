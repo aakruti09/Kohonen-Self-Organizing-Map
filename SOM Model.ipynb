{
 "cells": [
  {
   "cell_type": "markdown",
   "metadata": {},
   "source": [
    "## RGB Color Clustering\n",
    "### Kohonen Self Organizing Map"
   ]
  },
  {
   "cell_type": "code",
   "execution_count": null,
   "metadata": {
    "id": "auiJqpNS2AQR"
   },
   "outputs": [],
   "source": [
    "from matplotlib import pyplot as plt\n",
    "import numpy as np\n",
    "from math import *\n",
    "from matplotlib import patches"
   ]
  },
  {
   "cell_type": "code",
   "execution_count": null,
   "metadata": {
    "id": "gSDDoztK3cia"
   },
   "outputs": [],
   "source": [
    "class Kohonen_Self_Organizing_Map:\n",
    "  def __init__(self, sigma, no_of_input_features, no_of_samples):\n",
    "    #set initial learning rate to 0.8\n",
    "    self.learningRate = 0.8\n",
    "    #set sigma value\n",
    "    self.sigma = sigma\n",
    "    #Number of input features i.e 3 in our case we have R G B\n",
    "    self.no_of_input_features = no_of_input_features\n",
    "    # Number of Samples\n",
    "    self.no_of_samples = no_of_samples\n",
    "    #Declare the 100 by 100 grid of neurons\n",
    "    self.output_neuron_layer = np.array([100, 100])\n",
    "    #initialzed weights randomly in matrix 100 by 100\n",
    "    self.Weights = np.random.random((self.output_neuron_layer[0], self.output_neuron_layer[1], \n",
    "                                     self.no_of_input_features))\n",
    "\n",
    "    # Defining and setting the learning rate \n",
    "  def setLearningRate(self, currentIteration, totalIteration):\n",
    "    learn_zero = self.learningRate\n",
    "    learn_exp = np.exp(- currentIteration / totalIteration)\n",
    "    self.learningRate = learn_zero * learn_exp\n",
    "\n",
    "  # Defining and setting the sigma rate \n",
    "  def setSigmaRate(self, currentIteration, totalIteration):\n",
    "    learn_exp = np.exp(- currentIteration / totalIteration)\n",
    "    self.sigma = self.sigma * learn_exp\n",
    "\n",
    "  # Defining neighbourhood\n",
    "  def neighbourhood(self, d_i_j):\n",
    "    deno = 2 * pow(self.sigma, 2)\n",
    "    return np.exp(-d_i_j / deno)\n",
    "\n",
    "  # Defining training Data\n",
    "  def trainingData(self, input):\n",
    "    train_data = input[:, np.random.randint(0, self.no_of_samples)].reshape(np.array([self.no_of_input_features, 1]))\n",
    "    return train_data\n",
    "\n",
    "  # Finding the winner neuron\n",
    "  def findWinnerNeuron(self, trainingDataSet):\n",
    "    winningNeuronIndex = np.array([0, 0])\n",
    "    min_dist = np.iinfo(np.intp).max\n",
    "    for x in range(self.Weights.shape[0]):\n",
    "      for y in range(self.Weights.shape[1]):\n",
    "        w = self.Weights[x, y, :].reshape(self.no_of_input_features, 1)\n",
    "        square_distance = np.sum((w - trainingDataSet) ** 2)\n",
    "        square_distance = np.sqrt(square_distance)\n",
    "        if square_distance < min_dist:\n",
    "          min_dist = square_distance\n",
    "          winningNeuronIndex = np.array([x, y])\n",
    "    winningNeuronUnit = self.Weights[winningNeuronIndex[0], winningNeuronIndex[1], :].reshape(self.no_of_input_features, 1)\n",
    "    return (winningNeuronUnit, winningNeuronIndex)\n",
    "    \n",
    "\n",
    "  # Updating the Weights  \n",
    "  def updatingWeights(self, winningNeuronIndex, trainingDataSet):\n",
    "    for x in range(self.Weights.shape[0]):\n",
    "      for y in range(self.Weights.shape[1]):\n",
    "        w = self.Weights[x, y, :].reshape(self.no_of_input_features, 1)\n",
    "        w_dist = np.sum((np.array([x, y]) - winningNeuronIndex) ** 2)\n",
    "        w_dist = np.sqrt(w_dist)\n",
    "        if w_dist <= self.sigma:\n",
    "          N = self.neighbourhood(w_dist)\n",
    "          new_w = w + (self.learningRate * N * (trainingDataSet - w))\n",
    "          self.Weights[x, y, :] = new_w.reshape(1, 3)\n",
    "\n",
    "  # Plotting the output of the SOM color\n",
    "  def plotOuput(self):\n",
    "    fig = plt.figure(figsize=(20,20))\n",
    "    ax = fig.add_subplot(111, aspect='equal')\n",
    "    ax.set_xlim((0, self.Weights.shape[0]+1))\n",
    "    ax.set_ylim((0, self.Weights.shape[1]+1))\n",
    "    ax.set_title('Kohnens Self-organizing map for an epoch '+ str(i+1) )\n",
    "    for x in range(1, self.Weights.shape[0] + 1):\n",
    "      for y in range(1, self.Weights.shape[1] + 1):\n",
    "        ax.add_patch(patches.Circle((x, y), 0.5, facecolor=self.Weights[x-1,y-1,:], edgecolor='none'))\n",
    "    plt.show()\n",
    "\n"
   ]
  },
  {
   "cell_type": "code",
   "execution_count": null,
   "metadata": {
    "id": "I5rANnTcRAl0"
   },
   "outputs": [],
   "source": [
    "#Colors for output\n",
    "Color_output_255 = [(0,0,128),(255,127,80),(240,128,128),(205,92,92),(250,128,114),(255,0,0),(154,205,50),\n",
    "                    (107,142,35),(124,252,0),(255,99,71),(127,255,0),(173,255,47),(0,100,0),(25,25,112),(0,0,139),(0,0,205),\n",
    "                    (0,0,255),(233,150,122),(85,107,47),(65,105,225),(255,255,0),(138,43,226),(75,0,130),(220,20,60)]\n",
    "                    \n",
    "# calibrating the color codes to values between 0 and 1\n",
    "calibratColorOutput_0_to_1 = []\n",
    "for r,g,b in Color_output_255 :\n",
    "  r = r/255\n",
    "  g = g/255\n",
    "  b = b/255\n",
    "  color_0_to_1 = (r, g, b)\n",
    "  calibratColorOutput_0_to_1.append(color_0_to_1)"
   ]
  },
  {
   "cell_type": "code",
   "execution_count": null,
   "metadata": {
    "id": "3Eq-jzLQRJRD"
   },
   "outputs": [],
   "source": [
    "# Transposing the color output array\n",
    "calibratColorOutput_0_to_1 = np.array(calibratColorOutput_0_to_1)\n",
    "calibratColorOutput_0_to_1 = calibratColorOutput_0_to_1.T\n",
    "data = calibratColorOutput_0_to_1"
   ]
  },
  {
   "cell_type": "code",
   "execution_count": null,
   "metadata": {
    "id": "A6eNhRrIRf3-"
   },
   "outputs": [],
   "source": [
    "# Running epoch for 20, 40, 100, 1000\n",
    "num_of_epoch = [20,40,100,1000]"
   ]
  },
  {
   "cell_type": "markdown",
   "metadata": {
    "id": "4FEbTifc80G8"
   },
   "source": [
    "**For Sigma = 1**"
   ]
  },
  {
   "cell_type": "code",
   "execution_count": null,
   "metadata": {
    "colab": {
     "base_uri": "https://localhost:8080/",
     "height": 1000
    },
    "id": "gvdKpydJ6nDR",
    "outputId": "41a949f4-d954-4585-b59a-7fbf1521a1b6"
   },
   "outputs": [],
   "source": [
    "# Setting sigma value = 1 , number of features and number of samples\n",
    "kson = Kohonen_Self_Organizing_Map(1, data.shape[0], data.shape[1])\n",
    "for k in num_of_epoch:\n",
    "  for i in range(k):\n",
    "    train_data = kson.trainingData(data)\n",
    "    winner_neuron_unit, winner_neuron_index = kson.findWinnerNeuron(train_data)\n",
    "    Decaying_sigma = kson.setSigmaRate(i,k)\n",
    "    Decaying_learning_rate = kson.setLearningRate(i, k)\n",
    "    kson.updatingWeights(winner_neuron_index, train_data)\n",
    "  kson.plotOuput()"
   ]
  },
  {
   "cell_type": "markdown",
   "metadata": {
    "id": "ue8es8KBFgC8"
   },
   "source": [
    "**For Sigma = 10**"
   ]
  },
  {
   "cell_type": "code",
   "execution_count": null,
   "metadata": {
    "colab": {
     "base_uri": "https://localhost:8080/",
     "height": 1000
    },
    "id": "zZ73PIRmFMiZ",
    "outputId": "1d7ab100-6643-4f84-f760-c24380cbb5f0"
   },
   "outputs": [],
   "source": [
    "# Setting sigma value = 10 , number of features and number of samples\n",
    "kson = Kohonen_Self_Organizing_Map(10, data.shape[0], data.shape[1])\n",
    "for k in num_of_epoch:\n",
    "  for i in range(k):\n",
    "    train_data = kson.trainingData(data)\n",
    "    winner_neuron_unit, winner_neuron_index = kson.findWinnerNeuron(train_data)\n",
    "    kson.setSigmaRate(i,k)\n",
    "    kson.setLearningRate(i, k)\n",
    "    kson.updatingWeights(winner_neuron_index, train_data)\n",
    "  \n",
    "  kson.plotOuput()"
   ]
  },
  {
   "cell_type": "markdown",
   "metadata": {
    "id": "EB_ZpRNLFhj3"
   },
   "source": [
    "**For Sigma = 30**"
   ]
  },
  {
   "cell_type": "code",
   "execution_count": null,
   "metadata": {
    "colab": {
     "base_uri": "https://localhost:8080/",
     "height": 1000
    },
    "id": "vRSxN5V9FSJN",
    "outputId": "ca8337de-1782-4cc3-f5a7-74272bc6b25b"
   },
   "outputs": [],
   "source": [
    "# Setting sigma value = 30 , number of features and number of samples\n",
    "kson = Kohonen_Self_Organizing_Map(30, data.shape[0], data.shape[1])\n",
    "for k in num_of_epoch:\n",
    "  for i in range(k):\n",
    "    train_data = kson.trainingData(data)\n",
    "    best_neuron_unit, best_neuron_index = kson.findWinnerNeuron(train_data)\n",
    "    kson.setSigmaRate(i,k)\n",
    "    kson.setLearningRate(i, k)\n",
    "    kson.updatingWeights(best_neuron_index, train_data)\n",
    "  \n",
    "  kson.plotOuput()"
   ]
  },
  {
   "cell_type": "markdown",
   "metadata": {
    "id": "aTlyd7FlZpFd"
   },
   "source": [
    "**For Sigma = 50**"
   ]
  },
  {
   "cell_type": "code",
   "execution_count": null,
   "metadata": {
    "colab": {
     "base_uri": "https://localhost:8080/",
     "height": 1000
    },
    "id": "hiSJJt1z6m-0",
    "outputId": "b8edb5f6-3e60-401e-988c-ce1299f4c4f7"
   },
   "outputs": [],
   "source": [
    "# Setting sigma value = 50 , number of features and number of samples\n",
    "kson = Kohonen_Self_Organizing_Map(50, data.shape[0], data.shape[1])\n",
    "for k in num_of_epoch:\n",
    "  for i in range(k):\n",
    "    train_data = kson.trainingData(data)\n",
    "    winner_neuron_unit, winner_neuron_index = kson.findWinnerNeuron(train_data)\n",
    "    kson.setSigmaRate(i,k)\n",
    "    kson.setLearningRate(i, k)\n",
    "    kson.updatingWeights(winner_neuron_index, train_data)\n",
    "  \n",
    "  kson.plotOuput()"
   ]
  },
  {
   "cell_type": "markdown",
   "metadata": {
    "id": "Hwmu5_e0FZx7"
   },
   "source": [
    "**For Sigma = 70**"
   ]
  },
  {
   "cell_type": "code",
   "execution_count": null,
   "metadata": {
    "colab": {
     "base_uri": "https://localhost:8080/",
     "height": 1000
    },
    "id": "iteedvr46tPM",
    "outputId": "02e00227-49a5-4187-8260-2a4fb6157163"
   },
   "outputs": [],
   "source": [
    "# Setting sigma value = 70 , number of features and number of samples\n",
    "kson = Kohonen_Self_Organizing_Map(70, data.shape[0], data.shape[1])\n",
    "for k in num_of_epoch:\n",
    "  for i in range(k):\n",
    "    train_data = kson.trainingData(data)\n",
    "    winner_neuron_unit, winner_neuron_index = kson.findWinnerNeuron(train_data)\n",
    "    kson.setSigmaRate(i,k)\n",
    "    kson.setLearningRate(i, k)\n",
    "    kson.updatingWeights(winner_neuron_index, train_data)\n",
    "  \n",
    "  kson.plotOuput()"
   ]
  },
  {
   "cell_type": "markdown",
   "metadata": {
    "id": "ABog6A1K9uPd"
   },
   "source": [
    "**Q : 4(b) Conclusion**\n",
    "*   From the above outputs for different sigma and epoch values we can say that higher the sigma and higher the number of epoch value produces good result.\n",
    "*   As sigma value increase from 1 to 70, neurons organize themselves much better.\n",
    "*   For lower values of sigma and different extents of epoch iterations,( i.e. training with a value of sigma as 1, with 20 epochs or with 1000 epoch) had no effects on the output, it means epoch alone don't have influence on the behavious of the maps formed. \n",
    "*   When number of epochs=1000, then the few data is getting mapped to black. Whereas, when epoch=100, the ouput is good enough. So we should stop training at 100 epochs otherwise, the error increases and the data will be overtrained.\n",
    "*   Therefore, the epoch and sigma values go hand in hand.\n",
    "* As epoch value increase its computation time also increases. Therefore there is a tradeoff between optimal number of iterations and number of neurons we have to train."
   ]
  },
  {
   "cell_type": "markdown",
   "metadata": {
    "id": "52mCED3hCT2d"
   },
   "source": [
    "**References:**\n",
    "* https://stackoverflow.com/questions/7604966/maximum-and-minimum-values-for-ints\n",
    "* https://towardsdatascience.com/how-to-implement-kohonens-self-organizing-maps-989c4da05f19\n",
    "* https://www.youtube.com/watch?v=M272NC1PizE\n",
    "* https://github.com/EklavyaFCB/EMNIST-Kohonen-SOM\n",
    "* https://towardsdatascience.com/kohonen-self-organizing-maps-a29040d688da\n",
    "* https://github.com/Kursula/Kohonen_SOM/blob/master/img_feature_vector_SOM.ipynb"
   ]
  },
  {
   "cell_type": "code",
   "execution_count": null,
   "metadata": {},
   "outputs": [],
   "source": []
  }
 ],
 "metadata": {
  "colab": {
   "collapsed_sections": [],
   "name": "657 A2 Q4.ipynb",
   "provenance": []
  },
  "kernelspec": {
   "display_name": "Python 3",
   "language": "python",
   "name": "python3"
  },
  "language_info": {
   "codemirror_mode": {
    "name": "ipython",
    "version": 3
   },
   "file_extension": ".py",
   "mimetype": "text/x-python",
   "name": "python",
   "nbconvert_exporter": "python",
   "pygments_lexer": "ipython3",
   "version": "3.8.5"
  }
 },
 "nbformat": 4,
 "nbformat_minor": 1
}
